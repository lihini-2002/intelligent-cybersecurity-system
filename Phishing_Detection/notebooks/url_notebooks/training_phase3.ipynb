{
  "nbformat": 4,
  "nbformat_minor": 0,
  "metadata": {
    "colab": {
      "provenance": [],
      "gpuType": "T4"
    },
    "kernelspec": {
      "name": "python3",
      "display_name": "Python 3"
    },
    "language_info": {
      "name": "python"
    },
    "accelerator": "GPU"
  },
  "cells": [
    {
      "cell_type": "code",
      "execution_count": null,
      "metadata": {
        "id": "3IaVkVlljRrn"
      },
      "outputs": [],
      "source": [
        "!pip install transformers pandas scikit-learn torch"
      ]
    },
    {
      "cell_type": "code",
      "source": [
        "import pandas as pd\n",
        "import torch\n",
        "from sklearn.model_selection import train_test_split\n",
        "from transformers import AutoTokenizer, AutoModelForSequenceClassification, TrainingArguments, Trainer, DataCollatorWithPadding\n",
        "from sklearn.metrics import accuracy_score, precision_recall_fscore_support\n"
      ],
      "metadata": {
        "id": "2eiKCRhEiFoe"
      },
      "execution_count": 5,
      "outputs": []
    },
    {
      "cell_type": "code",
      "source": [
        "from google.colab import drive\n",
        "drive.mount('/content/drive')"
      ],
      "metadata": {
        "colab": {
          "base_uri": "https://localhost:8080/"
        },
        "id": "dpEQtjAFiHCM",
        "outputId": "9dfd6b6b-2b20-4dcf-c29f-85e8580bc173"
      },
      "execution_count": 6,
      "outputs": [
        {
          "output_type": "stream",
          "name": "stdout",
          "text": [
            "Mounted at /content/drive\n"
          ]
        }
      ]
    },
    {
      "cell_type": "code",
      "source": [
        "from transformers import AutoTokenizer, AutoModelForSequenceClassification, Trainer\n",
        "\n",
        "# Step 1: Reload tokenizer and model\n",
        "tokenizer = AutoTokenizer.from_pretrained(\"distilbert-base-uncased\")\n",
        "model = AutoModelForSequenceClassification.from_pretrained(\n",
        "    \"/content/drive/MyDrive/phishing_model_v1_after_phase1\", num_labels=2\n",
        ")"
      ],
      "metadata": {
        "id": "VuVZRwj8iRVr"
      },
      "execution_count": 7,
      "outputs": []
    },
    {
      "cell_type": "code",
      "source": [
        "import pandas as pd\n",
        "\n",
        "train_df = pd.read_csv(\"/content/drive/MyDrive/phishing_chunks/phase2_train.csv\")\n",
        "test_df = pd.read_csv(\"/content/drive/MyDrive/phishing_chunks/phase2_test.csv\")\n",
        "\n",
        "print(\"Train shape:\", train_df.shape)\n",
        "print(\"Test shape:\", test_df.shape)\n"
      ],
      "metadata": {
        "colab": {
          "base_uri": "https://localhost:8080/"
        },
        "id": "3qJNy9ljicuh",
        "outputId": "87d4d495-e927-49c3-bd92-260535cb65b0"
      },
      "execution_count": 8,
      "outputs": [
        {
          "output_type": "stream",
          "name": "stdout",
          "text": [
            "Train shape: (268128, 2)\n",
            "Test shape: (67033, 2)\n"
          ]
        }
      ]
    },
    {
      "cell_type": "code",
      "source": [
        "train_texts = train_df[\"url\"].tolist()\n",
        "train_labels = train_df[\"label\"].tolist()\n",
        "\n",
        "test_texts = test_df[\"url\"].tolist()\n",
        "test_labels = test_df[\"label\"].tolist()\n"
      ],
      "metadata": {
        "id": "WDb2EcDKjOtF"
      },
      "execution_count": 9,
      "outputs": []
    },
    {
      "cell_type": "code",
      "source": [
        "def batch_tokenize(texts, labels, tokenizer, batch_size=10000):\n",
        "    encodings = {\"input_ids\": [], \"attention_mask\": []}\n",
        "    all_labels = []\n",
        "\n",
        "    for i in range(0, len(texts), batch_size):\n",
        "        batch_texts = texts[i:i+batch_size]\n",
        "        batch_labels = labels[i:i+batch_size]\n",
        "        batch_enc = tokenizer(batch_texts, truncation=True, padding=True, return_tensors=\"pt\")\n",
        "\n",
        "        encodings[\"input_ids\"].extend(batch_enc[\"input_ids\"])\n",
        "        encodings[\"attention_mask\"].extend(batch_enc[\"attention_mask\"])\n",
        "        all_labels.extend(batch_labels)\n",
        "\n",
        "    return encodings, all_labels\n"
      ],
      "metadata": {
        "id": "frE_QFocjVmC"
      },
      "execution_count": 10,
      "outputs": []
    },
    {
      "cell_type": "code",
      "source": [
        "train_encodings, train_labels_final = batch_tokenize(train_texts, train_labels, tokenizer)\n",
        "test_encodings, test_labels_final = batch_tokenize(test_texts, test_labels, tokenizer)\n"
      ],
      "metadata": {
        "id": "5cyaV3r9jba3"
      },
      "execution_count": 11,
      "outputs": []
    },
    {
      "cell_type": "code",
      "source": [
        "import torch\n",
        "\n",
        "class PhishingDataset(torch.utils.data.Dataset):\n",
        "    def __init__(self, encodings, labels):\n",
        "        self.encodings = encodings\n",
        "        self.labels = labels\n",
        "\n",
        "    def __getitem__(self, idx):\n",
        "        return {key: self.encodings[key][idx] for key in self.encodings} | {\n",
        "            \"labels\": torch.tensor(self.labels[idx])\n",
        "        }\n",
        "\n",
        "    def __len__(self):\n",
        "        return len(self.labels)\n",
        "\n",
        "train_dataset = PhishingDataset(train_encodings, train_labels_final)\n",
        "test_dataset = PhishingDataset(test_encodings, test_labels_final)"
      ],
      "metadata": {
        "id": "O0fZOpLbkGXW"
      },
      "execution_count": 12,
      "outputs": []
    },
    {
      "cell_type": "code",
      "source": [
        "from transformers import AutoModelForSequenceClassification\n",
        "\n",
        "model = AutoModelForSequenceClassification.from_pretrained(\n",
        "    \"/content/drive/MyDrive/phishing_model_v1_after_phase1\",\n",
        "    num_labels=2\n",
        ")\n"
      ],
      "metadata": {
        "id": "lCmO9cyxkZUK"
      },
      "execution_count": 13,
      "outputs": []
    },
    {
      "cell_type": "code",
      "source": [
        "from transformers import TrainingArguments\n",
        "\n",
        "training_args = TrainingArguments(\n",
        "    output_dir=\"/content/drive/MyDrive/phishing_model_checkpoint\",  # Overwrites with Phase 3\n",
        "    eval_strategy=\"epoch\",\n",
        "    save_strategy=\"epoch\",\n",
        "    logging_dir=\"/content/drive/MyDrive/phishing_logs\",\n",
        "    per_device_train_batch_size=16,\n",
        "    per_device_eval_batch_size=32,\n",
        "    num_train_epochs=1,\n",
        "    weight_decay=0.01,\n",
        "    load_best_model_at_end=True,\n",
        "    metric_for_best_model=\"f1\",\n",
        "    save_total_limit=2,\n",
        "    logging_steps=50,\n",
        "    report_to=\"none\"\n",
        ")"
      ],
      "metadata": {
        "id": "ykZpUp-kkbAt"
      },
      "execution_count": 14,
      "outputs": []
    },
    {
      "cell_type": "code",
      "source": [
        "from transformers import DataCollatorWithPadding\n",
        "from sklearn.metrics import accuracy_score, precision_recall_fscore_support\n",
        "\n",
        "data_collator = DataCollatorWithPadding(tokenizer=tokenizer)\n",
        "\n",
        "def compute_metrics(eval_pred):\n",
        "    logits, labels = eval_pred\n",
        "    preds = logits.argmax(axis=1)\n",
        "    precision, recall, f1, _ = precision_recall_fscore_support(labels, preds, average='binary')\n",
        "    acc = accuracy_score(labels, preds)\n",
        "    return {\n",
        "        'accuracy': acc,\n",
        "        'precision': precision,\n",
        "        'recall': recall,\n",
        "        'f1': f1\n",
        "    }"
      ],
      "metadata": {
        "id": "dMqjG1J-kkaS"
      },
      "execution_count": 15,
      "outputs": []
    },
    {
      "cell_type": "code",
      "source": [
        "from transformers import Trainer\n",
        "\n",
        "trainer = Trainer(\n",
        "    model=model,\n",
        "    args=training_args,\n",
        "    train_dataset=train_dataset,\n",
        "    eval_dataset=test_dataset,\n",
        "    compute_metrics=compute_metrics,\n",
        "    data_collator=data_collator\n",
        ")\n",
        "\n",
        "trainer.train()\n",
        "trainer.evaluate()\n"
      ],
      "metadata": {
        "colab": {
          "base_uri": "https://localhost:8080/",
          "height": 279
        },
        "id": "KtbSyXK4kpcA",
        "outputId": "e0159755-505a-42e2-bd15-893e09fb3082"
      },
      "execution_count": 16,
      "outputs": [
        {
          "output_type": "display_data",
          "data": {
            "text/plain": [
              "<IPython.core.display.HTML object>"
            ],
            "text/html": [
              "\n",
              "    <div>\n",
              "      \n",
              "      <progress value='16758' max='16758' style='width:300px; height:20px; vertical-align: middle;'></progress>\n",
              "      [16758/16758 3:40:57, Epoch 1/1]\n",
              "    </div>\n",
              "    <table border=\"1\" class=\"dataframe\">\n",
              "  <thead>\n",
              " <tr style=\"text-align: left;\">\n",
              "      <th>Epoch</th>\n",
              "      <th>Training Loss</th>\n",
              "      <th>Validation Loss</th>\n",
              "      <th>Accuracy</th>\n",
              "      <th>Precision</th>\n",
              "      <th>Recall</th>\n",
              "      <th>F1</th>\n",
              "    </tr>\n",
              "  </thead>\n",
              "  <tbody>\n",
              "    <tr>\n",
              "      <td>1</td>\n",
              "      <td>0.020500</td>\n",
              "      <td>0.027735</td>\n",
              "      <td>0.993332</td>\n",
              "      <td>0.980235</td>\n",
              "      <td>0.942476</td>\n",
              "      <td>0.960985</td>\n",
              "    </tr>\n",
              "  </tbody>\n",
              "</table><p>"
            ]
          },
          "metadata": {}
        },
        {
          "output_type": "display_data",
          "data": {
            "text/plain": [
              "<IPython.core.display.HTML object>"
            ],
            "text/html": [
              "\n",
              "    <div>\n",
              "      \n",
              "      <progress value='2095' max='2095' style='width:300px; height:20px; vertical-align: middle;'></progress>\n",
              "      [2095/2095 15:30]\n",
              "    </div>\n",
              "    "
            ]
          },
          "metadata": {}
        },
        {
          "output_type": "execute_result",
          "data": {
            "text/plain": [
              "{'eval_loss': 0.027734674513339996,\n",
              " 'eval_accuracy': 0.9933316426237823,\n",
              " 'eval_precision': 0.9802350427350427,\n",
              " 'eval_recall': 0.9424756034925527,\n",
              " 'eval_f1': 0.9609845509295627,\n",
              " 'eval_runtime': 930.932,\n",
              " 'eval_samples_per_second': 72.006,\n",
              " 'eval_steps_per_second': 2.25,\n",
              " 'epoch': 1.0}"
            ]
          },
          "metadata": {},
          "execution_count": 16
        }
      ]
    }
  ]
}
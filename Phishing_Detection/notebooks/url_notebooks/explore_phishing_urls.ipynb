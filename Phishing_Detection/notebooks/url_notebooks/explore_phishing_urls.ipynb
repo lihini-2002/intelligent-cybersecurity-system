{
 "cells": [
  {
   "cell_type": "code",
   "execution_count": null,
   "id": "27f8ab04-3c58-4e34-be39-3b087fd19e30",
   "metadata": {},
   "outputs": [],
   "source": [
    "!pip install pandas scikit-learn"
   ]
  },
  {
   "cell_type": "code",
   "execution_count": 14,
   "id": "29581645-5001-4728-ba5e-97657b45f4e2",
   "metadata": {},
   "outputs": [],
   "source": [
    "import pandas as pd\n",
    "import numpy as np\n",
    "import os"
   ]
  },
  {
   "cell_type": "code",
   "execution_count": 26,
   "id": "74f12a01-7f63-4240-ada2-7b9eb7ef76dd",
   "metadata": {},
   "outputs": [],
   "source": [
    "# Define file paths\n",
    "kaggle_csv_path = \"../data/urls/phishing_site_urls.csv\"\n",
    "openphish_txt_path = \"../data/urls/feed.txt\""
   ]
  },
  {
   "cell_type": "code",
   "execution_count": 38,
   "id": "17c1366b-c803-4239-a567-bcde07d8d059",
   "metadata": {},
   "outputs": [
    {
     "name": "stdout",
     "output_type": "stream",
     "text": [
      "Kaggle Dataset:\n",
      "(549346, 2)\n",
      "Index(['URL', 'Label'], dtype='object')\n"
     ]
    },
    {
     "data": {
      "text/html": [
       "<div>\n",
       "<style scoped>\n",
       "    .dataframe tbody tr th:only-of-type {\n",
       "        vertical-align: middle;\n",
       "    }\n",
       "\n",
       "    .dataframe tbody tr th {\n",
       "        vertical-align: top;\n",
       "    }\n",
       "\n",
       "    .dataframe thead th {\n",
       "        text-align: right;\n",
       "    }\n",
       "</style>\n",
       "<table border=\"1\" class=\"dataframe\">\n",
       "  <thead>\n",
       "    <tr style=\"text-align: right;\">\n",
       "      <th></th>\n",
       "      <th>URL</th>\n",
       "      <th>Label</th>\n",
       "    </tr>\n",
       "  </thead>\n",
       "  <tbody>\n",
       "    <tr>\n",
       "      <th>0</th>\n",
       "      <td>nobell.it/70ffb52d079109dca5664cce6f317373782/...</td>\n",
       "      <td>bad</td>\n",
       "    </tr>\n",
       "    <tr>\n",
       "      <th>1</th>\n",
       "      <td>www.dghjdgf.com/paypal.co.uk/cycgi-bin/webscrc...</td>\n",
       "      <td>bad</td>\n",
       "    </tr>\n",
       "    <tr>\n",
       "      <th>2</th>\n",
       "      <td>serviciosbys.com/paypal.cgi.bin.get-into.herf....</td>\n",
       "      <td>bad</td>\n",
       "    </tr>\n",
       "    <tr>\n",
       "      <th>3</th>\n",
       "      <td>mail.printakid.com/www.online.americanexpress....</td>\n",
       "      <td>bad</td>\n",
       "    </tr>\n",
       "    <tr>\n",
       "      <th>4</th>\n",
       "      <td>thewhiskeydregs.com/wp-content/themes/widescre...</td>\n",
       "      <td>bad</td>\n",
       "    </tr>\n",
       "  </tbody>\n",
       "</table>\n",
       "</div>"
      ],
      "text/plain": [
       "                                                 URL Label\n",
       "0  nobell.it/70ffb52d079109dca5664cce6f317373782/...   bad\n",
       "1  www.dghjdgf.com/paypal.co.uk/cycgi-bin/webscrc...   bad\n",
       "2  serviciosbys.com/paypal.cgi.bin.get-into.herf....   bad\n",
       "3  mail.printakid.com/www.online.americanexpress....   bad\n",
       "4  thewhiskeydregs.com/wp-content/themes/widescre...   bad"
      ]
     },
     "execution_count": 38,
     "metadata": {},
     "output_type": "execute_result"
    }
   ],
   "source": [
    "# Load Kaggle dataset\n",
    "kaggle_df = pd.read_csv(kaggle_csv_path)\n",
    "\n",
    "# Display structure\n",
    "print(\"Kaggle Dataset:\")\n",
    "print(kaggle_df.shape)\n",
    "print(kaggle_df.columns)\n",
    "kaggle_df.head()"
   ]
  },
  {
   "cell_type": "code",
   "execution_count": 39,
   "id": "32add1d3-906c-470e-8ba9-0a95559077d0",
   "metadata": {},
   "outputs": [
    {
     "name": "stdout",
     "output_type": "stream",
     "text": [
      "Label\n",
      "good    392924\n",
      "bad     156422\n",
      "Name: count, dtype: int64\n"
     ]
    }
   ],
   "source": [
    "# With counts\n",
    "print(kaggle_df[\"Label\"].value_counts())"
   ]
  },
  {
   "cell_type": "code",
   "execution_count": 40,
   "id": "230593c3-0f11-485f-b755-842a80a8457a",
   "metadata": {},
   "outputs": [
    {
     "data": {
      "text/plain": [
       "label\n",
       "0    392924\n",
       "1    156422\n",
       "Name: count, dtype: int64"
      ]
     },
     "execution_count": 40,
     "metadata": {},
     "output_type": "execute_result"
    }
   ],
   "source": [
    "# Rename columns to lowercase for consistency\n",
    "kaggle_df.columns = kaggle_df.columns.str.lower()\n",
    "\n",
    "# Convert text labels to binary: bad → 1 (phishing), good/safe/legitimate → 0\n",
    "label_map = {\n",
    "    \"bad\": 1,\n",
    "    \"good\": 0\n",
    "}\n",
    "\n",
    "kaggle_df[\"label\"] = kaggle_df[\"label\"].str.lower().map(label_map)\n",
    "\n",
    "# Drop any rows with missing or unrecognized labels\n",
    "kaggle_df.dropna(subset=[\"label\"],inplace=True)\n",
    "\n",
    "# Ensure labels are integers\n",
    "kaggle_df[\"label\"] = kaggle_df[\"label\"].astype(int)\n",
    "\n",
    "# View label distribution\n",
    "kaggle_df[\"label\"].value_counts()\n"
   ]
  },
  {
   "cell_type": "code",
   "execution_count": 41,
   "id": "000a485d-19f6-4642-907b-dce0e4541e42",
   "metadata": {},
   "outputs": [],
   "source": [
    "import re\n",
    "\n",
    "def normalize_url(url):\n",
    "    # Remove http/https protocol\n",
    "    url = re.sub(r'^https?:\\/\\/', '', url.strip().lower())\n",
    "    # Remove trailing slashes\n",
    "    return url.rstrip('/')\n"
   ]
  },
  {
   "cell_type": "code",
   "execution_count": 42,
   "id": "abfebe9f-f852-403d-8dbd-bbc0c6fa762b",
   "metadata": {},
   "outputs": [
    {
     "name": "stdout",
     "output_type": "stream",
     "text": [
      "Before combining:\n",
      "Kaggle dataset after normalization: (502242, 2)\n",
      "label\n",
      "0    392896\n",
      "1    109346\n",
      "Name: count, dtype: int64\n"
     ]
    }
   ],
   "source": [
    "# After mapping but before combining\n",
    "print(\"Before combining:\")# Normalize Kaggle URLs\n",
    "kaggle_df[\"url\"] = kaggle_df[\"url\"].apply(normalize_url)\n",
    "\n",
    "# Drop duplicates within Kaggle before combining\n",
    "kaggle_df.drop_duplicates(subset=\"url\", inplace=True)\n",
    "\n",
    "# Optional: drop NaNs just in case\n",
    "kaggle_df.dropna(subset=[\"url\", \"label\"], inplace=True)\n",
    "\n",
    "print(\"Kaggle dataset after normalization:\", kaggle_df.shape)\n",
    "\n",
    "print(kaggle_df[\"label\"].value_counts(dropna=False))\n"
   ]
  },
  {
   "cell_type": "code",
   "execution_count": 43,
   "id": "26320aaf-8245-4554-9248-f304906ed8fa",
   "metadata": {},
   "outputs": [
    {
     "name": "stdout",
     "output_type": "stream",
     "text": [
      "OpenPhish Dataset:\n",
      "(500, 2)\n"
     ]
    },
    {
     "data": {
      "text/html": [
       "<div>\n",
       "<style scoped>\n",
       "    .dataframe tbody tr th:only-of-type {\n",
       "        vertical-align: middle;\n",
       "    }\n",
       "\n",
       "    .dataframe tbody tr th {\n",
       "        vertical-align: top;\n",
       "    }\n",
       "\n",
       "    .dataframe thead th {\n",
       "        text-align: right;\n",
       "    }\n",
       "</style>\n",
       "<table border=\"1\" class=\"dataframe\">\n",
       "  <thead>\n",
       "    <tr style=\"text-align: right;\">\n",
       "      <th></th>\n",
       "      <th>url</th>\n",
       "      <th>label</th>\n",
       "    </tr>\n",
       "  </thead>\n",
       "  <tbody>\n",
       "    <tr>\n",
       "      <th>0</th>\n",
       "      <td>https://instaproapk.su/</td>\n",
       "      <td>1</td>\n",
       "    </tr>\n",
       "    <tr>\n",
       "      <th>1</th>\n",
       "      <td>https://soeaung.soeaung311092.workers.dev/</td>\n",
       "      <td>1</td>\n",
       "    </tr>\n",
       "    <tr>\n",
       "      <th>2</th>\n",
       "      <td>http://unbouncepages.com/meta-business-support...</td>\n",
       "      <td>1</td>\n",
       "    </tr>\n",
       "    <tr>\n",
       "      <th>3</th>\n",
       "      <td>http://tested-polar-ground.glitch.me/</td>\n",
       "      <td>1</td>\n",
       "    </tr>\n",
       "    <tr>\n",
       "      <th>4</th>\n",
       "      <td>http://instagram506308.blogspot.com/</td>\n",
       "      <td>1</td>\n",
       "    </tr>\n",
       "  </tbody>\n",
       "</table>\n",
       "</div>"
      ],
      "text/plain": [
       "                                                 url  label\n",
       "0                            https://instaproapk.su/      1\n",
       "1         https://soeaung.soeaung311092.workers.dev/      1\n",
       "2  http://unbouncepages.com/meta-business-support...      1\n",
       "3              http://tested-polar-ground.glitch.me/      1\n",
       "4               http://instagram506308.blogspot.com/      1"
      ]
     },
     "execution_count": 43,
     "metadata": {},
     "output_type": "execute_result"
    }
   ],
   "source": [
    "# Load OpenPhish feed.txt\n",
    "with open(openphish_txt_path, \"r\") as f:\n",
    "    urls = f.read().splitlines()\n",
    "\n",
    "# Create DataFrame and label them as phishing\n",
    "openphish_df = pd.DataFrame(urls, columns=[\"url\"])\n",
    "openphish_df[\"label\"] = 1\n",
    "\n",
    "print(\"OpenPhish Dataset:\")\n",
    "print(openphish_df.shape)\n",
    "openphish_df.head()\n"
   ]
  },
  {
   "cell_type": "code",
   "execution_count": 44,
   "id": "253b5214-9537-4713-ae45-724526edfbae",
   "metadata": {},
   "outputs": [
    {
     "name": "stdout",
     "output_type": "stream",
     "text": [
      "OpenPhish dataset after normalization: (499, 2)\n"
     ]
    }
   ],
   "source": [
    "# Normalize OpenPhish URLs\n",
    "openphish_df[\"url\"] = openphish_df[\"url\"].apply(normalize_url)\n",
    "\n",
    "# Drop duplicates within OpenPhish before combining\n",
    "openphish_df.drop_duplicates(subset=\"url\", inplace=True)\n",
    "\n",
    "print(\"OpenPhish dataset after normalization:\", openphish_df.shape)\n"
   ]
  },
  {
   "cell_type": "code",
   "execution_count": 45,
   "id": "30a1b00c-ce62-4474-970b-9e261649cddc",
   "metadata": {},
   "outputs": [
    {
     "name": "stdout",
     "output_type": "stream",
     "text": [
      "Combined dataset shape: (502741, 2)\n",
      "Label distribution:\n",
      "label\n",
      "0    392896\n",
      "1    109845\n",
      "Name: count, dtype: int64\n"
     ]
    }
   ],
   "source": [
    "# Combine both datasets\n",
    "combined_df = pd.concat([kaggle_df, openphish_df], ignore_index=True)\n",
    "\n",
    "# Final deduplication across sources\n",
    "combined_df.drop_duplicates(subset=\"url\", inplace=True)\n",
    "combined_df.dropna(subset=[\"url\", \"label\"], inplace=True)\n",
    "\n",
    "print(\"Combined dataset shape:\", combined_df.shape)\n",
    "print(\"Label distribution:\")\n",
    "print(combined_df[\"label\"].value_counts())\n"
   ]
  },
  {
   "cell_type": "code",
   "execution_count": 46,
   "id": "48876385-59d8-4b7c-8e01-53b63d6b2ace",
   "metadata": {},
   "outputs": [
    {
     "name": "stdout",
     "output_type": "stream",
     "text": [
      "Combined dataset shape: (502741, 2)\n"
     ]
    },
    {
     "data": {
      "text/plain": [
       "label\n",
       "0    392896\n",
       "1    109845\n",
       "Name: count, dtype: int64"
      ]
     },
     "execution_count": 46,
     "metadata": {},
     "output_type": "execute_result"
    }
   ],
   "source": [
    "\n",
    "print(\"Combined dataset shape:\", combined_df.shape)\n",
    "combined_df[\"label\"].value_counts()"
   ]
  },
  {
   "cell_type": "code",
   "execution_count": 47,
   "id": "a71ffb89-3393-4c31-a9f1-d246c93071d7",
   "metadata": {},
   "outputs": [
    {
     "name": "stdout",
     "output_type": "stream",
     "text": [
      "Saved combined cleaned dataset to ../data/urls/phishing_urls_combined_cleaned.csv\n"
     ]
    }
   ],
   "source": [
    "combined_path = \"../data/urls/phishing_urls_combined_cleaned.csv\"\n",
    "combined_df.to_csv(combined_path, index=False)\n",
    "print(f\"Saved combined cleaned dataset to {combined_path}\")\n"
   ]
  },
  {
   "cell_type": "code",
   "execution_count": null,
   "id": "27d53479-407f-416b-be89-6478e1f79d0e",
   "metadata": {},
   "outputs": [],
   "source": [
    "!pip install transformers"
   ]
  },
  {
   "cell_type": "code",
   "execution_count": 49,
   "id": "cb4d29b5-0165-45c2-8560-50c10095864f",
   "metadata": {},
   "outputs": [
    {
     "name": "stdout",
     "output_type": "stream",
     "text": [
      "(502741, 2)\n"
     ]
    },
    {
     "data": {
      "text/html": [
       "<div>\n",
       "<style scoped>\n",
       "    .dataframe tbody tr th:only-of-type {\n",
       "        vertical-align: middle;\n",
       "    }\n",
       "\n",
       "    .dataframe tbody tr th {\n",
       "        vertical-align: top;\n",
       "    }\n",
       "\n",
       "    .dataframe thead th {\n",
       "        text-align: right;\n",
       "    }\n",
       "</style>\n",
       "<table border=\"1\" class=\"dataframe\">\n",
       "  <thead>\n",
       "    <tr style=\"text-align: right;\">\n",
       "      <th></th>\n",
       "      <th>url</th>\n",
       "      <th>label</th>\n",
       "    </tr>\n",
       "  </thead>\n",
       "  <tbody>\n",
       "    <tr>\n",
       "      <th>0</th>\n",
       "      <td>nobell.it/70ffb52d079109dca5664cce6f317373782/...</td>\n",
       "      <td>1</td>\n",
       "    </tr>\n",
       "    <tr>\n",
       "      <th>1</th>\n",
       "      <td>www.dghjdgf.com/paypal.co.uk/cycgi-bin/webscrc...</td>\n",
       "      <td>1</td>\n",
       "    </tr>\n",
       "    <tr>\n",
       "      <th>2</th>\n",
       "      <td>serviciosbys.com/paypal.cgi.bin.get-into.herf....</td>\n",
       "      <td>1</td>\n",
       "    </tr>\n",
       "    <tr>\n",
       "      <th>3</th>\n",
       "      <td>mail.printakid.com/www.online.americanexpress....</td>\n",
       "      <td>1</td>\n",
       "    </tr>\n",
       "    <tr>\n",
       "      <th>4</th>\n",
       "      <td>thewhiskeydregs.com/wp-content/themes/widescre...</td>\n",
       "      <td>1</td>\n",
       "    </tr>\n",
       "  </tbody>\n",
       "</table>\n",
       "</div>"
      ],
      "text/plain": [
       "                                                 url  label\n",
       "0  nobell.it/70ffb52d079109dca5664cce6f317373782/...      1\n",
       "1  www.dghjdgf.com/paypal.co.uk/cycgi-bin/webscrc...      1\n",
       "2  serviciosbys.com/paypal.cgi.bin.get-into.herf....      1\n",
       "3  mail.printakid.com/www.online.americanexpress....      1\n",
       "4  thewhiskeydregs.com/wp-content/themes/widescre...      1"
      ]
     },
     "execution_count": 49,
     "metadata": {},
     "output_type": "execute_result"
    }
   ],
   "source": [
    "import pandas as pd\n",
    "\n",
    "# Load the final cleaned dataset\n",
    "df = pd.read_csv(\"../data/urls/phishing_urls_combined_cleaned.csv\")\n",
    "\n",
    "# Confirm structure\n",
    "print(df.shape)\n",
    "df.head()"
   ]
  },
  {
   "cell_type": "code",
   "execution_count": 50,
   "id": "53a69329-a181-4368-8fe6-17a50ca0f659",
   "metadata": {},
   "outputs": [],
   "source": [
    "from sklearn.model_selection import train_test_split\n",
    "\n",
    "# Stratified split to preserve phishing/legitimate ratio\n",
    "train_texts, test_texts, train_labels, test_labels = train_test_split(\n",
    "    df[\"url\"].tolist(),\n",
    "    df[\"label\"].tolist(),\n",
    "    test_size=0.2,\n",
    "    random_state=42,\n",
    "    stratify=df[\"label\"]\n",
    ")"
   ]
  },
  {
   "cell_type": "code",
   "execution_count": 52,
   "id": "b789d0f0-d20f-4b04-8949-3ad0d951657d",
   "metadata": {},
   "outputs": [],
   "source": [
    "from transformers import AutoTokenizer\n",
    "\n",
    "tokenizer = AutoTokenizer.from_pretrained(\"bert-base-uncased\")"
   ]
  },
  {
   "cell_type": "code",
   "execution_count": 53,
   "id": "8f408699-a149-4e04-bc55-f2357165de00",
   "metadata": {},
   "outputs": [],
   "source": [
    "# Tokenize the URLs\n",
    "train_encodings = tokenizer(train_texts, truncation=True, padding=True)\n",
    "test_encodings = tokenizer(test_texts, truncation=True, padding=True)"
   ]
  },
  {
   "cell_type": "code",
   "execution_count": 54,
   "id": "50b00db3-5753-4529-9932-9ff8c238a044",
   "metadata": {},
   "outputs": [],
   "source": [
    "import torch\n",
    "\n",
    "class PhishingURLDataset(torch.utils.data.Dataset):\n",
    "    def __init__(self, encodings, labels):\n",
    "        self.encodings = encodings\n",
    "        self.labels = labels\n",
    "    \n",
    "    def __getitem__(self, idx):\n",
    "        return {key: torch.tensor(val[idx]) for key, val in self.encodings.items()} | {\"labels\": torch.tensor(self.labels[idx])}\n",
    "    \n",
    "    def __len__(self):\n",
    "        return len(self.labels)\n",
    "\n",
    "# Create datasets\n",
    "train_dataset = PhishingURLDataset(train_encodings, train_labels)\n",
    "test_dataset = PhishingURLDataset(test_encodings, test_labels)\n"
   ]
  },
  {
   "cell_type": "code",
   "execution_count": 55,
   "id": "59eca4ad-b96b-456e-ad28-d203b3f8ab2d",
   "metadata": {},
   "outputs": [
    {
     "name": "stderr",
     "output_type": "stream",
     "text": [
      "Some weights of BertForSequenceClassification were not initialized from the model checkpoint at bert-base-uncased and are newly initialized: ['classifier.bias', 'classifier.weight']\n",
      "You should probably TRAIN this model on a down-stream task to be able to use it for predictions and inference.\n"
     ]
    }
   ],
   "source": [
    "from transformers import AutoModelForSequenceClassification\n",
    "\n",
    "# Load model (2 output labels: phishing, legitimate)\n",
    "model = AutoModelForSequenceClassification.from_pretrained(\n",
    "    \"bert-base-uncased\", \n",
    "    num_labels=2\n",
    ")"
   ]
  },
  {
   "cell_type": "code",
   "execution_count": 56,
   "id": "8995815b-97b8-49ac-b007-748939256a4c",
   "metadata": {},
   "outputs": [],
   "source": [
    "from transformers import TrainingArguments\n",
    "\n",
    "training_args = TrainingArguments(\n",
    "    output_dir=\"../models/url-bert-model\",     # where to save the model\n",
    "    eval_strategy=\"epoch\",                 # evaluate after each epoch\n",
    "    save_strategy=\"epoch\",                       # save after each epoch\n",
    "    logging_dir=\"../results/url/logs\",     # log directory\n",
    "    per_device_train_batch_size=16,\n",
    "    per_device_eval_batch_size=32,\n",
    "    num_train_epochs=3,\n",
    "    weight_decay=0.01,\n",
    "    load_best_model_at_end=True,\n",
    "    metric_for_best_model=\"f1\",\n",
    "    save_total_limit=2,\n",
    "    logging_steps=50\n",
    ")\n"
   ]
  },
  {
   "cell_type": "code",
   "execution_count": 57,
   "id": "6150e33f-7ebd-4e07-bf78-2fd3205d0cf9",
   "metadata": {},
   "outputs": [],
   "source": [
    "from sklearn.metrics import accuracy_score, precision_recall_fscore_support\n",
    "\n",
    "def compute_metrics(eval_pred):\n",
    "    logits, labels = eval_pred\n",
    "    preds = logits.argmax(axis=1)\n",
    "    precision, recall, f1, _ = precision_recall_fscore_support(labels, preds, average='binary')\n",
    "    acc = accuracy_score(labels, preds)\n",
    "    return {\n",
    "        'accuracy': acc,\n",
    "        'precision': precision,\n",
    "        'recall': recall,\n",
    "        'f1': f1\n",
    "    }"
   ]
  },
  {
   "cell_type": "code",
   "execution_count": 58,
   "id": "561dbd8e-f207-4764-b424-db59946d4d1f",
   "metadata": {},
   "outputs": [],
   "source": [
    "from transformers import Trainer\n",
    "\n",
    "trainer = Trainer(\n",
    "    model=model,\n",
    "    args=training_args,\n",
    "    train_dataset=train_dataset,\n",
    "    eval_dataset=test_dataset,\n",
    "    compute_metrics=compute_metrics\n",
    ")"
   ]
  },
  {
   "cell_type": "code",
   "execution_count": null,
   "id": "531b4e30-da86-4b73-a0d9-5e71c2649f53",
   "metadata": {},
   "outputs": [
    {
     "data": {
      "text/html": [
       "\n",
       "    <div>\n",
       "      \n",
       "      <progress value='432' max='75411' style='width:300px; height:20px; vertical-align: middle;'></progress>\n",
       "      [  432/75411 2:04:45 < 362:33:52, 0.06 it/s, Epoch 0.02/3]\n",
       "    </div>\n",
       "    <table border=\"1\" class=\"dataframe\">\n",
       "  <thead>\n",
       " <tr style=\"text-align: left;\">\n",
       "      <th>Epoch</th>\n",
       "      <th>Training Loss</th>\n",
       "      <th>Validation Loss</th>\n",
       "    </tr>\n",
       "  </thead>\n",
       "  <tbody>\n",
       "  </tbody>\n",
       "</table><p>"
      ],
      "text/plain": [
       "<IPython.core.display.HTML object>"
      ]
     },
     "metadata": {},
     "output_type": "display_data"
    }
   ],
   "source": [
    "trainer.train()"
   ]
  },
  {
   "cell_type": "code",
   "execution_count": null,
   "id": "ebcb4874-e5c9-4f33-8e2e-abe1d0dda95a",
   "metadata": {},
   "outputs": [],
   "source": []
  }
 ],
 "metadata": {
  "kernelspec": {
   "display_name": "Python 3.10 (bert-env)",
   "language": "python",
   "name": "bert-env"
  },
  "language_info": {
   "codemirror_mode": {
    "name": "ipython",
    "version": 3
   },
   "file_extension": ".py",
   "mimetype": "text/x-python",
   "name": "python",
   "nbconvert_exporter": "python",
   "pygments_lexer": "ipython3",
   "version": "3.10.13"
  }
 },
 "nbformat": 4,
 "nbformat_minor": 5
}
